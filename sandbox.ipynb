{
 "cells": [
  {
   "cell_type": "code",
   "execution_count": 21,
   "metadata": {},
   "outputs": [],
   "source": [
    "import numpy as np\n",
    "import cmath"
   ]
  },
  {
   "cell_type": "code",
   "execution_count": 10,
   "metadata": {},
   "outputs": [
    {
     "data": {
      "text/plain": [
       "array([28.+0.j        , -4.+9.65685425j, -4.+4.j        , -4.+1.65685425j,\n",
       "       -4.+0.j        , -4.-1.65685425j, -4.-4.j        , -4.-9.65685425j])"
      ]
     },
     "execution_count": 10,
     "metadata": {},
     "output_type": "execute_result"
    }
   ],
   "source": [
    "np.fft.fft([0,1,2,3,4,5,6,7])"
   ]
  },
  {
   "cell_type": "code",
   "execution_count": 36,
   "metadata": {},
   "outputs": [],
   "source": [
    "def fft(input):\n",
    "    out = input.copy()\n",
    "\n",
    "    newidx = [0 for _ in range(len(input)//2)]\n",
    "    l = 1\n",
    "    while newidx[-1] == 0:\n",
    "        add = len(input) // (l * 2)\n",
    "        for i in range(l, (2*l)):\n",
    "            newidx[i] = newidx[i - l] + add\n",
    "            t = out[i]\n",
    "            out[i] = out[newidx[i]]\n",
    "            out[newidx[i]] = t\n",
    "        \n",
    "        l *= 2\n",
    "\n",
    "    \n",
    "    for s in range(1, int(np.log2(len(input))) + 1):\n",
    "        m = 2 ** s\n",
    "        x = (-2 * cmath.pi) / m\n",
    "        # TODO hmmm\n",
    "        twiddle = complex(np.cos(x), np.sin(x))\n",
    "\n",
    "        for k in range(0, len(input), m):\n",
    "            w = complex(1, 0)\n",
    "            for j in range(0, (m // 2)):\n",
    "                t = w * out[k + j + (m//2)]\n",
    "                u = out[k + j]\n",
    "                out[k + j] = u + t\n",
    "                out[k + j + (m//2)] = u - t\n",
    "                w = w * twiddle\n",
    "\n",
    "\n",
    "    return out"
   ]
  },
  {
   "cell_type": "code",
   "execution_count": 37,
   "metadata": {},
   "outputs": [
    {
     "data": {
      "text/plain": [
       "[(28+0j),\n",
       " (-4+9.65685424949238j),\n",
       " (-4.000000000000001+4j),\n",
       " (-4.000000000000001+1.6568542494923797j),\n",
       " (-4+0j),\n",
       " (-3.9999999999999996-1.6568542494923797j),\n",
       " (-3.999999999999999-4j),\n",
       " (-3.999999999999998-9.65685424949238j)]"
      ]
     },
     "execution_count": 37,
     "metadata": {},
     "output_type": "execute_result"
    }
   ],
   "source": [
    "fft([0, 1, 2, 3, 4, 5, 6, 7])"
   ]
  }
 ],
 "metadata": {
  "kernelspec": {
   "display_name": "Python 3",
   "language": "python",
   "name": "python3"
  },
  "language_info": {
   "codemirror_mode": {
    "name": "ipython",
    "version": 3
   },
   "file_extension": ".py",
   "mimetype": "text/x-python",
   "name": "python",
   "nbconvert_exporter": "python",
   "pygments_lexer": "ipython3",
   "version": "3.11.4"
  }
 },
 "nbformat": 4,
 "nbformat_minor": 2
}
